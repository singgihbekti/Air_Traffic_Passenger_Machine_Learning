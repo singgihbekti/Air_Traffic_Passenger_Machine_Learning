{
 "cells": [
  {
   "cell_type": "code",
   "execution_count": 20,
   "metadata": {},
   "outputs": [],
   "source": [
    "import numpy as np\n",
    "import pandas as pd\n",
    "import matplotlib.pyplot as plt\n",
    "import seaborn as sns\n",
    "sns.set_style('whitegrid')\n",
    "%matplotlib inline"
   ]
  },
  {
   "cell_type": "code",
   "execution_count": 23,
   "metadata": {},
   "outputs": [
    {
     "name": "stdout",
     "output_type": "stream",
     "text": [
      "       Activity Period Operating Airline Operating Airline IATA Code  \\\n",
      "0               200507      ATA Airlines                          TZ   \n",
      "1               200507      ATA Airlines                          TZ   \n",
      "2               200507      ATA Airlines                          TZ   \n",
      "3               200507       Air Canada                           AC   \n",
      "4               200507       Air Canada                           AC   \n",
      "...                ...               ...                         ...   \n",
      "15002           201603    Virgin America                          VX   \n",
      "15003           201603    Virgin America                          VX   \n",
      "15004           201603    Virgin America                          VX   \n",
      "15005           201603   Virgin Atlantic                          VS   \n",
      "15006           201603   Virgin Atlantic                          VS   \n",
      "\n",
      "      Published Airline Published Airline IATA Code    GEO Summary GEO Region  \\\n",
      "0          ATA Airlines                          TZ       Domestic         US   \n",
      "1          ATA Airlines                          TZ       Domestic         US   \n",
      "2          ATA Airlines                          TZ       Domestic         US   \n",
      "3           Air Canada                           AC  International     Canada   \n",
      "4           Air Canada                           AC  International     Canada   \n",
      "...                 ...                         ...            ...        ...   \n",
      "15002    Virgin America                          VX       Domestic         US   \n",
      "15003    Virgin America                          VX  International     Mexico   \n",
      "15004    Virgin America                          VX  International     Mexico   \n",
      "15005   Virgin Atlantic                          VS  International     Europe   \n",
      "15006   Virgin Atlantic                          VS  International     Europe   \n",
      "\n",
      "      Activity Type Code Price Category Code       Terminal Boarding Area  \\\n",
      "0               Deplaned            Low Fare     Terminal 1             B   \n",
      "1               Enplaned            Low Fare     Terminal 1             B   \n",
      "2         Thru / Transit            Low Fare     Terminal 1             B   \n",
      "3               Deplaned               Other     Terminal 1             B   \n",
      "4               Enplaned               Other     Terminal 1             B   \n",
      "...                  ...                 ...            ...           ...   \n",
      "15002           Enplaned            Low Fare     Terminal 2             D   \n",
      "15003           Deplaned            Low Fare  International             A   \n",
      "15004           Enplaned            Low Fare     Terminal 2             D   \n",
      "15005           Deplaned               Other  International             A   \n",
      "15006           Enplaned               Other  International             A   \n",
      "\n",
      "       Passenger Count Adjusted Activity Type Code  Adjusted Passenger Count  \\\n",
      "0                27271                    Deplaned                     27271   \n",
      "1                29131                    Enplaned                     29131   \n",
      "2                 5415          Thru / Transit * 2                     10830   \n",
      "3                35156                    Deplaned                     35156   \n",
      "4                34090                    Enplaned                     34090   \n",
      "...                ...                         ...                       ...   \n",
      "15002           194636                    Enplaned                    194636   \n",
      "15003             4189                    Deplaned                      4189   \n",
      "15004             4693                    Enplaned                      4693   \n",
      "15005            12313                    Deplaned                     12313   \n",
      "15006            10898                    Enplaned                     10898   \n",
      "\n",
      "       Year  Month  \n",
      "0      2005   July  \n",
      "1      2005   July  \n",
      "2      2005   July  \n",
      "3      2005   July  \n",
      "4      2005   July  \n",
      "...     ...    ...  \n",
      "15002  2016  March  \n",
      "15003  2016  March  \n",
      "15004  2016  March  \n",
      "15005  2016  March  \n",
      "15006  2016  March  \n",
      "\n",
      "[15007 rows x 16 columns]\n"
     ]
    }
   ],
   "source": [
    "#https://data.world/singgih/airtrafficpassengerdataproject-4-11-2021/workspace/file?agentid=data-society&datasetid=air-traffic-passenger-data&filename=Air_Traffic_Passenger_Statistics.csv\n",
    "\n",
    "df = pd.read_csv('https://query.data.world/s/ns3l3xcga6fa4ypmv4p6znhwna7kke')\n",
    "print(df)"
   ]
  },
  {
   "cell_type": "code",
   "execution_count": null,
   "metadata": {},
   "outputs": [],
   "source": []
  }
 ],
 "metadata": {
  "kernelspec": {
   "display_name": "Python 3",
   "language": "python",
   "name": "python3"
  },
  "language_info": {
   "codemirror_mode": {
    "name": "ipython",
    "version": 3
   },
   "file_extension": ".py",
   "mimetype": "text/x-python",
   "name": "python",
   "nbconvert_exporter": "python",
   "pygments_lexer": "ipython3",
   "version": "3.8.5"
  }
 },
 "nbformat": 4,
 "nbformat_minor": 4
}
